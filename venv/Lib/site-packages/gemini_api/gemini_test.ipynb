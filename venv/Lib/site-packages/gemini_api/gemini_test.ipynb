{
 "cells": [
  {
   "cell_type": "code",
   "execution_count": 58,
   "metadata": {},
   "outputs": [
    {
     "name": "stdout",
     "output_type": "stream",
     "text": [
      "Requirement already satisfied: gemini_api in /Users/eliasbenaddouidrissi/Library/Caches/pypoetry/virtualenvs/monzo-dashboard-lZAXDDlB-py3.9/lib/python3.9/site-packages (0.1.5)\n",
      "Requirement already satisfied: requests<3.0.0,>=2.28.0 in /Users/eliasbenaddouidrissi/Library/Caches/pypoetry/virtualenvs/monzo-dashboard-lZAXDDlB-py3.9/lib/python3.9/site-packages (from gemini_api) (2.28.0)\n",
      "Requirement already satisfied: urllib3<1.27,>=1.21.1 in /Users/eliasbenaddouidrissi/Library/Caches/pypoetry/virtualenvs/monzo-dashboard-lZAXDDlB-py3.9/lib/python3.9/site-packages (from requests<3.0.0,>=2.28.0->gemini_api) (1.21.1)\n",
      "Requirement already satisfied: certifi>=2017.4.17 in /Users/eliasbenaddouidrissi/Library/Caches/pypoetry/virtualenvs/monzo-dashboard-lZAXDDlB-py3.9/lib/python3.9/site-packages (from requests<3.0.0,>=2.28.0->gemini_api) (2021.10.8)\n",
      "Requirement already satisfied: charset-normalizer~=2.0.0 in /Users/eliasbenaddouidrissi/Library/Caches/pypoetry/virtualenvs/monzo-dashboard-lZAXDDlB-py3.9/lib/python3.9/site-packages (from requests<3.0.0,>=2.28.0->gemini_api) (2.0.9)\n",
      "Requirement already satisfied: idna<4,>=2.5 in /Users/eliasbenaddouidrissi/Library/Caches/pypoetry/virtualenvs/monzo-dashboard-lZAXDDlB-py3.9/lib/python3.9/site-packages (from requests<3.0.0,>=2.28.0->gemini_api) (2.5)\n",
      "\u001b[33mWARNING: You are using pip version 21.2.4; however, version 22.1.2 is available.\n",
      "You should consider upgrading via the '/Users/eliasbenaddouidrissi/Library/Caches/pypoetry/virtualenvs/monzo-dashboard-lZAXDDlB-py3.9/bin/python -m pip install --upgrade pip' command.\u001b[0m\n"
     ]
    }
   ],
   "source": [
    "!pip install gemini_api --upgrade"
   ]
  },
  {
   "cell_type": "code",
   "execution_count": 4,
   "metadata": {},
   "outputs": [],
   "source": [
    "from datetime import datetime\n",
    "from gemini_api.endpoints.public import Public\n",
    "from gemini_api.endpoints.order import Order\n",
    "from gemini_api.authentication import Authentication\n",
    "from time import sleep\n",
    "\n",
    "\n",
    "def unix_ts_to_date(timestamp: str) -> str:\n",
    "    date = datetime.utcfromtimestamp(int(timestamp)).strftime(\"%Y-%m-%dT%H:%M:%S\")\n",
    "    return str(date)"
   ]
  },
  {
   "cell_type": "code",
   "execution_count": 3,
   "metadata": {},
   "outputs": [],
   "source": [
    "public_key = 'account-MvJITxe9d8ukdZZePqI5'\n",
    "private_key = '2sdyu983AFVHCEaD7QDSJQBN4eYi'\n",
    "auth = Authentication(public_key, private_key, sandbox=True)"
   ]
  },
  {
   "cell_type": "code",
   "execution_count": 5,
   "metadata": {},
   "outputs": [
    {
     "data": {
      "text/plain": [
       "'17381.20'"
      ]
     },
     "execution_count": 5,
     "metadata": {},
     "output_type": "execute_result"
    }
   ],
   "source": [
    "btc_ticker = Public().get_ticker(pair=\"BTCGBP\")\n",
    "btc_ask = btc_ticker.get(\"ask\")\n",
    "btc_ask"
   ]
  },
  {
   "cell_type": "code",
   "execution_count": 18,
   "metadata": {},
   "outputs": [
    {
     "name": "stdout",
     "output_type": "stream",
     "text": [
      "21316.37\n",
      "21310.7\n",
      "21307.91\n",
      "21304.26\n",
      "Error placing order\n",
      "21304.22\n",
      "Error placing order\n",
      "21304.2\n",
      "Error placing order\n",
      "21307.84\n",
      "Error placing order\n",
      "21303.49\n",
      "Error placing order\n",
      "21304.06\n",
      "Error placing order\n",
      "21304.01\n",
      "Error placing order\n",
      "21303.49\n",
      "Error placing order\n",
      "21303.49\n",
      "Error placing order\n",
      "21303.49\n",
      "Error placing order\n"
     ]
    },
    {
     "ename": "KeyboardInterrupt",
     "evalue": "",
     "output_type": "error",
     "traceback": [
      "\u001b[0;31m---------------------------------------------------------------------------\u001b[0m",
      "\u001b[0;31mKeyboardInterrupt\u001b[0m                         Traceback (most recent call last)",
      "\u001b[0;32m/var/folders/cd/hh7bvjcx611frgmk34696r1c0000gn/T/ipykernel_23020/792791704.py\u001b[0m in \u001b[0;36m<module>\u001b[0;34m\u001b[0m\n\u001b[1;32m     38\u001b[0m             \u001b[0mprint\u001b[0m\u001b[0;34m(\u001b[0m\u001b[0;34m\"Error placing order\"\u001b[0m\u001b[0;34m)\u001b[0m\u001b[0;34m\u001b[0m\u001b[0;34m\u001b[0m\u001b[0m\n\u001b[1;32m     39\u001b[0m \u001b[0;34m\u001b[0m\u001b[0m\n\u001b[0;32m---> 40\u001b[0;31m         \u001b[0msleep\u001b[0m\u001b[0;34m(\u001b[0m\u001b[0;36m2\u001b[0m\u001b[0;34m)\u001b[0m\u001b[0;34m\u001b[0m\u001b[0;34m\u001b[0m\u001b[0m\n\u001b[0m",
      "\u001b[0;31mKeyboardInterrupt\u001b[0m: "
     ]
    }
   ],
   "source": [
    "\n",
    "tick_size = 8\n",
    "quote_currency_price_inc = 2\n",
    "\n",
    "while True:\n",
    "    try:\n",
    "        btc_ticker = Public().get_ticker(pair=\"BTCUSD\")\n",
    "        btc_ask = float(btc_ticker.get(\"ask\"))\n",
    "    except Exception as e:\n",
    "        print(f\"Error getting data from Gemini: {e}\")\n",
    "\n",
    "    if btc_ask <= 35000:\n",
    "\n",
    "        factor = 0.999\n",
    "        buy_size = 200\n",
    "\n",
    "        execution_price = str(round(btc_ask * factor, quote_currency_price_inc))\n",
    "\n",
    "        amount = round((buy_size * 0.998) / float(execution_price), tick_size)\n",
    "\n",
    "        try:\n",
    "            order = Order.new_order(\n",
    "                auth=auth,\n",
    "                symbol=\"btcusd\",\n",
    "                amount=str(amount),\n",
    "                price=str(btc_ask),\n",
    "                side=\"buy\",\n",
    "                options=[\"maker-or-cancel\"],\n",
    "            )\n",
    "            \n",
    "            if order.is_cancelled is False:\n",
    "                date = unix_ts_to_date(order.timestamp)\n",
    "                print(\n",
    "                    f\"New order created on {order.date} with order_id: {order.order_id}\"\n",
    "                    + f\" of executed amount: {order.executed_amount} {order.symbol}\"\n",
    "                    + f\" at average execution_price: {order.avg_execution_price}\"\n",
    "                )\n",
    "        except (KeyError, AttributeError):\n",
    "            print(\"Error placing order\")\n",
    "\n",
    "        sleep(2)\n"
   ]
  },
  {
   "cell_type": "code",
   "execution_count": null,
   "metadata": {},
   "outputs": [],
   "source": []
  }
 ],
 "metadata": {
  "interpreter": {
   "hash": "4a5025ac8f3ee0c74d38c1ad01dafa05e4bea313bbff4a51ab208435aa493b89"
  },
  "kernelspec": {
   "display_name": "Python 3.9.1 ('monzo-dashboard-lZAXDDlB-py3.9')",
   "language": "python",
   "name": "python3"
  },
  "language_info": {
   "codemirror_mode": {
    "name": "ipython",
    "version": 3
   },
   "file_extension": ".py",
   "mimetype": "text/x-python",
   "name": "python",
   "nbconvert_exporter": "python",
   "pygments_lexer": "ipython3",
   "version": "3.9.1"
  }
 },
 "nbformat": 4,
 "nbformat_minor": 4
}
